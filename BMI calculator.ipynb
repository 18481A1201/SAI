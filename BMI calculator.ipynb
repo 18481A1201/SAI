{
 "cells": [
  {
   "cell_type": "markdown",
   "id": "352eef65-cc5e-429a-b9d5-365f2d129f67",
   "metadata": {},
   "source": [
    "**BMI CALCULATOR**"
   ]
  },
  {
   "cell_type": "markdown",
   "id": "16e4f513-c6fd-4f36-a09c-a1ba29b3e099",
   "metadata": {},
   "source": [
    "https://mercer-health.com/services/weight-management-center/bmi-calculator#:~:text=Body%20Mass%20Index%2C%20or%20BMI,inches%20x%20height%20in%20inches"
   ]
  },
  {
   "cell_type": "code",
   "execution_count": 20,
   "id": "9aa81722-9c80-4c82-8ded-d6b2b95e3945",
   "metadata": {},
   "outputs": [
    {
     "name": "stdin",
     "output_type": "stream",
     "text": [
      "Enter your name:  Abbinei Sai Deekshita\n",
      "Enter your weight in pounds:  160\n",
      "Enter your weight in inches:  56\n"
     ]
    },
    {
     "name": "stdout",
     "output_type": "stream",
     "text": [
      "35.86734693877551\n",
      "Abbinei Sai Deekshita, you are severly obese very high\n"
     ]
    }
   ],
   "source": [
    "name=input(\"Enter your name: \")\n",
    "weight=int(input(\"Enter your weight in pounds: \"))\n",
    "height=int(input(\"Enter your weight in inches: \"))\n",
    "BMI= (weight*703)/(height*height)\n",
    "print(BMI)\n",
    "if BMI>0:\n",
    "    if(BMI<18.5):\n",
    "        print(name+', you are under weight')\n",
    "    elif(BMI<=24.9):\n",
    "         print(name+', you are normal weight')\n",
    "    elif(BMI<=29.9):\n",
    "        print(name+', you are overweight')\n",
    "    elif(BMI<=34.9):\n",
    "        print(name+', you are obese high')\n",
    "    elif(BMI<=39.9):\n",
    "        print(name+', you are severly obese very high')\n",
    "    else:\n",
    "        print(name+', you are over morbidly obese extremely high')\n",
    "else:\n",
    "    print('Enter valid inputs')         \n",
    "\n"
   ]
  },
  {
   "cell_type": "code",
   "execution_count": null,
   "id": "96e767a5-e2f9-4bb3-b088-06e5364fb4bd",
   "metadata": {},
   "outputs": [],
   "source": []
  },
  {
   "cell_type": "code",
   "execution_count": null,
   "id": "80eea0ff-d43c-4bd4-a570-b263aab3231a",
   "metadata": {},
   "outputs": [],
   "source": []
  },
  {
   "cell_type": "code",
   "execution_count": null,
   "id": "e92e750d-43f7-4cf4-9cd8-5f1c6be34602",
   "metadata": {},
   "outputs": [],
   "source": []
  },
  {
   "cell_type": "code",
   "execution_count": null,
   "id": "12b2de24-e3b8-4b3d-a4dd-7133ff771b5c",
   "metadata": {},
   "outputs": [],
   "source": []
  },
  {
   "cell_type": "code",
   "execution_count": null,
   "id": "24651706-cfdd-4a29-8c6c-e6ea721bba06",
   "metadata": {},
   "outputs": [],
   "source": []
  },
  {
   "cell_type": "code",
   "execution_count": null,
   "id": "d5606e9a-a96c-4853-bd00-6187e3e2625b",
   "metadata": {},
   "outputs": [],
   "source": []
  },
  {
   "cell_type": "code",
   "execution_count": null,
   "id": "9a0f1608-d531-46ee-8269-c13d6bd4a09f",
   "metadata": {},
   "outputs": [],
   "source": []
  },
  {
   "cell_type": "code",
   "execution_count": 2,
   "id": "9d8f5624-395d-4b83-9dc9-fc464413de70",
   "metadata": {},
   "outputs": [
    {
     "name": "stdout",
     "output_type": "stream",
     "text": [
      "sai\n"
     ]
    }
   ],
   "source": [
    "print(weight)"
   ]
  },
  {
   "cell_type": "markdown",
   "id": "4240eccf-f80a-4692-bd3f-4feb3bab9011",
   "metadata": {},
   "source": [
    "Under 18.5\tUnderweight\tMinimal\n",
    "18.5 - 24.9\tNormal Weight\tMinimal\n",
    "25 - 29.9\tOverweight\tIncreased\n",
    "30 - 34.9\tObese\tHigh\n",
    "35 - 39.9\tSeverely Obese\tVery High\n",
    "40 and over\tMorbidly Obese\tExtremely High"
   ]
  },
  {
   "cell_type": "code",
   "execution_count": null,
   "id": "7d2adfc2-8eef-4986-9c00-3439725580e5",
   "metadata": {},
   "outputs": [],
   "source": [
    "#BMI = (weight in pounds x 703) / (height in inches x height in inches)"
   ]
  },
  {
   "cell_type": "code",
   "execution_count": 19,
   "id": "80dc9f3c-2fa9-4209-a58a-1c99936d8673",
   "metadata": {},
   "outputs": [
    {
     "name": "stdout",
     "output_type": "stream",
     "text": [
      "Sai deekshita, you are overweight\n"
     ]
    }
   ],
   "source": [
    "if BMI>0:\n",
    "    if(BMI<18.5):\n",
    "        print(name+', you are under weight')\n",
    "    elif(BMI<=24.9):\n",
    "         print(name+', you are normal weight')\n",
    "    elif(BMI<=29.9):\n",
    "        print(name+', you are overweight')\n",
    "    elif(BMI<=34.9):\n",
    "        print(name+', you are obese high')\n",
    "    elif(BMI<=39.9):\n",
    "        print(name+', you are severly obese very high')\n",
    "    else:\n",
    "        print(name+', you are over morbidly obese extremely high')\n",
    "else:\n",
    "    print('Enter valid inputs')         "
   ]
  },
  {
   "cell_type": "code",
   "execution_count": null,
   "id": "4ad0c305-48bf-4a98-a729-ead7f42bb96e",
   "metadata": {},
   "outputs": [],
   "source": []
  },
  {
   "cell_type": "code",
   "execution_count": null,
   "id": "b06bceef-2364-4d1a-b862-1ace8b14175d",
   "metadata": {},
   "outputs": [],
   "source": []
  },
  {
   "cell_type": "code",
   "execution_count": null,
   "id": "16f3ea27-c019-466a-9608-d5d1800cb066",
   "metadata": {},
   "outputs": [],
   "source": []
  },
  {
   "cell_type": "code",
   "execution_count": null,
   "id": "cec2a6f2-9a9f-48ea-82b2-c1d54cdae11c",
   "metadata": {},
   "outputs": [],
   "source": []
  },
  {
   "cell_type": "code",
   "execution_count": null,
   "id": "f7c0c6bf-5d8d-4eee-9fe9-c70644758bd9",
   "metadata": {},
   "outputs": [],
   "source": []
  },
  {
   "cell_type": "code",
   "execution_count": null,
   "id": "091d0562-d9e3-4e0b-a917-46898512d302",
   "metadata": {},
   "outputs": [],
   "source": []
  },
  {
   "cell_type": "code",
   "execution_count": null,
   "id": "eb34d0f7-a82e-4a38-8931-17a239ed671f",
   "metadata": {},
   "outputs": [],
   "source": []
  },
  {
   "cell_type": "code",
   "execution_count": null,
   "id": "35924116-9af9-468f-b96e-d142471857f0",
   "metadata": {},
   "outputs": [],
   "source": []
  },
  {
   "cell_type": "code",
   "execution_count": null,
   "id": "89e0f886-45e7-4848-b310-4330a6db9fe2",
   "metadata": {},
   "outputs": [],
   "source": []
  },
  {
   "cell_type": "code",
   "execution_count": null,
   "id": "bb5f083f-1626-4859-b1c7-ac4bb7532a96",
   "metadata": {},
   "outputs": [],
   "source": []
  },
  {
   "cell_type": "code",
   "execution_count": null,
   "id": "7ad0c5a9-8dee-41c5-a5fa-8d5c7379b1ad",
   "metadata": {},
   "outputs": [],
   "source": []
  }
 ],
 "metadata": {
  "kernelspec": {
   "display_name": "Python 3 (ipykernel)",
   "language": "python",
   "name": "python3"
  },
  "language_info": {
   "codemirror_mode": {
    "name": "ipython",
    "version": 3
   },
   "file_extension": ".py",
   "mimetype": "text/x-python",
   "name": "python",
   "nbconvert_exporter": "python",
   "pygments_lexer": "ipython3",
   "version": "3.12.7"
  }
 },
 "nbformat": 4,
 "nbformat_minor": 5
}
